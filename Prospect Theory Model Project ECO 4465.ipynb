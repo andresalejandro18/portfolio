{
 "cells": [
  {
   "cell_type": "markdown",
   "id": "a908fb7b-b004-4111-b36e-4a8c4fba70c8",
   "metadata": {},
   "source": [
    "# Prospect Theory\n",
    "\n",
    "### Andrés Alejandro Davila, Nicholas Lopez-Calleja"
   ]
  },
  {
   "cell_type": "code",
   "execution_count": null,
   "id": "db007df9-2226-4f9e-8fcd-13aa737e0110",
   "metadata": {},
   "outputs": [],
   "source": []
  },
  {
   "cell_type": "code",
   "execution_count": null,
   "id": "8ee30d92-1cc4-4213-aa94-d989754fbb46",
   "metadata": {},
   "outputs": [],
   "source": []
  }
 ],
 "metadata": {
  "kernelspec": {
   "display_name": "Python 3 (ipykernel)",
   "language": "python",
   "name": "python3"
  },
  "language_info": {
   "codemirror_mode": {
    "name": "ipython",
    "version": 3
   },
   "file_extension": ".py",
   "mimetype": "text/x-python",
   "name": "python",
   "nbconvert_exporter": "python",
   "pygments_lexer": "ipython3",
   "version": "3.9.13"
  }
 },
 "nbformat": 4,
 "nbformat_minor": 5
}
